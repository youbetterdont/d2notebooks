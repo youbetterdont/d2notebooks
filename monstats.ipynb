{
 "cells": [
  {
   "cell_type": "code",
   "execution_count": 1,
   "metadata": {},
   "outputs": [],
   "source": [
    "import numpy as np\n",
    "import pydiablo as d2\n",
    "#reload(d2)\n",
    "#d2.monster\n",
    "#d2.character"
   ]
  },
  {
   "cell_type": "code",
   "execution_count": 2,
   "metadata": {},
   "outputs": [
    {
     "name": "stdout",
     "output_type": "stream",
     "text": [
      "Id\tAlvl\tLevelName\n",
      "39\t28\tMoo Moo Farm\n",
      "========\n",
      "Class name: hellbovine28Monster\n",
      "Areas: ['Moo Moo Farm']\n",
      "Monster: Hell Bovine\n",
      "mlvl: 28\n",
      "hp range: (160, 345)\n",
      "exp: 806\n",
      "block chance: 0\n",
      "defense: 147\n",
      "cold effect: -50\n",
      "drain effect: 100\n",
      "fire resist: 0\n",
      "cold resist: 0\n",
      "lightning resist: 0\n",
      "poison resist: 0\n",
      "damage resist: 0\n",
      "magic resist: 0\n",
      "a1_damage: (27, 40)\n",
      "a2_damage: (32, 43)\n",
      "s1_damage: (0, 0)\n",
      "a1_to_hit: 266\n",
      "a2_to_hit: 289\n",
      "s1_to_hit: 0\n",
      "==========\n",
      "max_life: 252\n",
      "experience: 806\n"
     ]
    }
   ],
   "source": [
    "#monster = Monster()\n",
    "#Monster.levels.nmh_monmap['blunderbore1']\n",
    "#print Monster.monstats.data['boss']\n",
    "#monster.levels.data['nmon10']\n",
    "#monster.levels.data.dtype.names\n",
    "# interesting ones\n",
    "# unraveler5: wave2 minions\n",
    "# unraveler8/9: high exp dudes in WSK/throne\n",
    "# bloodlord5: death lords in WSK/throne\n",
    "# fallen5: wave1 minions\n",
    "# dkfig2, dkmag2: act5 doom knights and oblivion knights\n",
    "# venomlord: wave4\n",
    "# baalhighpriest: wave3\n",
    "# baalminion1: wave5\n",
    "import sys\n",
    "monster_id = 'hellbovine'\n",
    "difficulty = d2.monster.NORMAL\n",
    "#print Monster.levels.get_areas(monster_id, difficulty)\n",
    "d2.monster.Monster.levels.write_area_table(sys.stdout, monster_id, difficulty)\n",
    "#MonsterType = d2.SuperUnique.create_superunique_type('Baal Subject 5', d2.HELL)\n",
    "MonsterType = d2.monster.Monster.create_monster_type(monster_id, difficulty)\n",
    "#area_ids = MonsterType.area_ids()\n",
    "#if len(area_ids) > 1:\n",
    "#    pass\n",
    "    #area_id = input(\"Select an area: \")\n",
    "#elif len(area_ids) > 0:\n",
    "#    area_id = area_ids[0]\n",
    "#else:\n",
    "#    area_id = None\n",
    "#MonsterType = monster_type(monster_id, HELL, area_id)\n",
    "#MonsterType = GenericMonsterType\n",
    "print('========')\n",
    "print('Class name: ' + MonsterType.__name__)\n",
    "print('Areas: ' + str(MonsterType.mlvl_specific_area_names()))\n",
    "print ('Monster: ' + MonsterType.monster_name())\n",
    "print ('mlvl: ' + str(MonsterType.mlvl))\n",
    "print ('hp range: ' + str(MonsterType.base_hp()))\n",
    "print ('exp: ' + str(MonsterType.base_experience()))\n",
    "print ('block chance: ' + str(MonsterType.block_chance()))\n",
    "print ('defense: ' + str(MonsterType.base_defense()))\n",
    "print ('cold effect: ' + str(MonsterType.cold_effect()))\n",
    "print ('drain effect: ' + str(MonsterType.drain_effect()))\n",
    "print ('fire resist: ' + str(MonsterType.base_fire_resist()))\n",
    "print ('cold resist: ' + str(MonsterType.base_cold_resist()))\n",
    "print ('lightning resist: ' + str(MonsterType.base_lightning_resist()))\n",
    "print ('poison resist: ' + str(MonsterType.base_poison_resist()))\n",
    "print ('damage resist: ' + str(MonsterType.base_damage_resist()))\n",
    "print ('magic resist: ' + str(MonsterType.magic_resist()))\n",
    "print ('a1_damage: ' + str(MonsterType.base_a1_damage()))\n",
    "print ('a2_damage: ' + str(MonsterType.base_a2_damage()))\n",
    "print ('s1_damage: ' + str(MonsterType.base_s1_damage()))\n",
    "print ('a1_to_hit: ' + str(MonsterType.base_a1_to_hit()))\n",
    "print ('a2_to_hit: ' + str(MonsterType.base_a2_to_hit()))\n",
    "print ('s1_to_hit: ' + str(MonsterType.base_s1_to_hit()))\n",
    "\n",
    "monster = MonsterType(player_count=1, rand=False)\n",
    "print ('==========')\n",
    "print ('max_life: ' + str(monster.max_life))\n",
    "print ('experience: ' + str(monster.experience()))"
   ]
  },
  {
   "cell_type": "code",
   "execution_count": 3,
   "metadata": {},
   "outputs": [
    {
     "name": "stdout",
     "output_type": "stream",
     "text": [
      "85\n"
     ]
    }
   ],
   "source": [
    "print(monster.mlvl)"
   ]
  },
  {
   "cell_type": "markdown",
   "metadata": {},
   "source": [
    "lvl = monstats.get_data('baalcrab', 'LevelH')\n",
    "#print monstats.data['Id']\n",
    "print monstats.get_data('blunderbore1', 'LevelH')\n",
    "base_hp = monlvl.get_data(lvl, 'LHPH')\n",
    "print monlvl.data.dtype.names\n",
    "hp = monstats.get_data('baalcrab', 'MaxHPH')\n",
    "print hp*base_hp/100.\n",
    "\n",
    "print monstats.get_data('baalcrab', 'MonProp')\n",
    "print monprop.data['Id']"
   ]
  },
  {
   "cell_type": "code",
   "execution_count": 9,
   "metadata": {},
   "outputs": [
    {
     "data": {
      "text/plain": [
       "9554.343749999998"
      ]
     },
     "execution_count": 9,
     "metadata": {},
     "output_type": "execute_result"
    }
   ],
   "source": [
    "105.5*1.5*5*(1+3+2+1)*(1+0.15)*(1+0.5)"
   ]
  },
  {
   "cell_type": "code",
   "execution_count": null,
   "metadata": {},
   "outputs": [],
   "source": []
  }
 ],
 "metadata": {
  "kernelspec": {
   "display_name": "Python 3",
   "language": "python",
   "name": "python3"
  },
  "language_info": {
   "codemirror_mode": {
    "name": "ipython",
    "version": 3
   },
   "file_extension": ".py",
   "mimetype": "text/x-python",
   "name": "python",
   "nbconvert_exporter": "python",
   "pygments_lexer": "ipython3",
   "version": "3.6.6"
  }
 },
 "nbformat": 4,
 "nbformat_minor": 2
}
