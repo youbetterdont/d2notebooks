{
 "cells": [
  {
   "cell_type": "code",
   "execution_count": 1,
   "metadata": {
    "scrolled": false
   },
   "outputs": [
    {
     "name": "stdout",
     "output_type": "stream",
     "text": [
      "Class: Amazon\n",
      "Animation: attack\n",
      "Weapon: BOW\n",
      "AnimRate: 100\n",
      "SIAS: 37\n",
      "WSM: 10\n",
      "WIAS: 0\n",
      "ias\teias\tatk0\tavg\taps\n",
      "0\t27\t11\t11.00\t2.27\n",
      "2\t28\t10\t10.00\t2.50\n",
      "16\t41\t9\t9.00\t2.78\n",
      "39\t56\t8\t8.00\t3.12\n",
      "80\t75\t7\t7.00\t3.57\n",
      "Class: WolfBarbarian\n",
      "Animation: attack\n",
      "Weapon: STF\n",
      "AnimRate: 50\n",
      "SIAS: 59\n",
      "WSM: 10\n",
      "WIAS: 90\n",
      "ias\teias\tatk0\tatk1\tavg\taps\n",
      "2\t101\t9\t9\t9.00\t2.78\n",
      "39\t111\t8\t8\t8.00\t3.12\n",
      "Class: WolfBarbarian\n",
      "Animation: attack\n",
      "Weapon: STF\n",
      "AnimRate: 50\n",
      "SIAS: 59\n",
      "WSM: 0\n",
      "WIAS: 60\n",
      "ias\teias\tatk0\tatk1\tavg\taps\n",
      "0\t99\t10\t10\t10.00\t2.50\n",
      "29\t110\t9\t9\t9.00\t2.78\n",
      "Class: WolfBarbarian\n",
      "Animation: attack\n",
      "Weapon: 2HS\n",
      "AnimRate: 50\n",
      "SIAS: 59\n",
      "WSM: 5\n",
      "WIAS: 60\n",
      "ias\teias\tatk0\tatk1\tavg\taps\n",
      "0\t94\t10\t10\t10.00\t2.50\n",
      "3\t95\t9\t9\t9.00\t2.78\n",
      "49\t111\t8\t8\t8.00\t3.12\n",
      "Class: WolfDruid\n",
      "Animation: attack\n",
      "Weapon: STF\n",
      "AnimRate: 50\n",
      "SIAS: 72\n",
      "WSM: 10\n",
      "WIAS: 50\n",
      "ias\teias\tatk0\tatk1\tavg\taps\n",
      "0\t97\t11\t11\t11.00\t2.27\n",
      "25\t108\t10\t10\t10.00\t2.50\n",
      "79\t124\t9\t9\t9.00\t2.78\n",
      "Class: WolfDruid\n",
      "Animation: attack\n",
      "Weapon: STF\n",
      "AnimRate: 50\n",
      "SIAS: 72\n",
      "WSM: 10\n",
      "WIAS: 60\n",
      "ias\teias\tatk0\tatk1\tavg\taps\n",
      "0\t102\t10\t10\t10.00\t2.50\n",
      "20\t110\t9\t9\t9.00\t2.78\n",
      "Class: WolfDruid\n",
      "Animation: attack\n",
      "Weapon: 2HS\n",
      "AnimRate: 50\n",
      "SIAS: 72\n",
      "WSM: 5\n",
      "WIAS: 60\n",
      "ias\teias\tatk0\tatk1\tavg\taps\n",
      "0\t107\t11\t11\t11.00\t2.27\n",
      "3\t108\t10\t10\t10.00\t2.50\n",
      "49\t124\t9\t9\t9.00\t2.78\n",
      "Class: Paladin\n",
      "Animation: zeal\n",
      "Weapon: 2HS\n",
      "AnimRate: 100\n",
      "SIAS: 37\n",
      "WSM: 10\n",
      "WIAS: 0\n",
      "ias\teias\tatk0\tatk1\tatk2\tatk3\tatk4\tavg\taps\n",
      "0\t27\t7\t7\t7\t7\t14\t8.40\t2.98\n",
      "3\t29\t7\t7\t7\t7\t13\t8.20\t3.05\n",
      "8\t34\t6\t6\t6\t6\t13\t7.40\t3.38\n",
      "14\t39\t6\t6\t6\t6\t12\t7.20\t3.47\n",
      "29\t50\t6\t6\t6\t6\t11\t7.00\t3.57\n",
      "48\t61\t5\t5\t5\t5\t11\t6.20\t4.03\n",
      "54\t64\t5\t5\t5\t5\t10\t6.00\t4.17\n",
      "Class: Act2Merc\n",
      "Animation: jab\n",
      "Weapon: HTH\n",
      "AnimRate: 100\n",
      "SIAS: 0\n",
      "WSM: 10\n",
      "WIAS: 0\n",
      "ias\teias\tatk0\tatk1\taidelay\tavg\taps\n",
      "0\t-10\t16\t0\t2\t9.00\t2.78\n",
      "5\t-6\t15\t0\t2\t8.50\t2.94\n",
      "11\t0\t14\t0\t2\t8.00\t3.12\n",
      "22\t8\t13\t0\t2\t7.50\t3.33\n",
      "35\t17\t12\t0\t2\t7.00\t3.57\n",
      "56\t28\t11\t0\t2\t6.50\t3.85\n",
      "89\t41\t10\t0\t2\t6.00\t4.17\n",
      "147\t56\t9\t0\t2\t5.50\t4.55\n",
      "292\t75\t8\t0\t2\t5.00\t5.00\n"
     ]
    }
   ],
   "source": [
    "import sys\n",
    "import pydiablo.char as d2\n",
    "#reload(d2)\n",
    "\n",
    "#paladin = d2.Paladin()\n",
    "#paladin.equip_weapon(ebotd_cb)\n",
    "#mstr_prev = ''\n",
    "#print '\\t'.join(['ias', '2HS', '', '2HT', ''])\n",
    "#print '\\t'.join(['', 'first', 'last', 'first', 'last'])\n",
    "#Paladin.generate_table('2HS', 100, 0, 0)\n",
    "#print BearDruid.anim_duration('A1','STF',100,35,0,40)\n",
    "#print Amazon.foreswing_duration('A1', 'BOW', 100, 0, 10, 0)\n",
    "#print Amazon.anim_duration('A1', 'BOW', 100, 0, 10, 0)\n",
    "d2.write_bp_table(sys.stdout, d2.Amazon.attack_duration, 'BOW', 100, 37, 10)\n",
    "d2.write_bp_table(sys.stdout, d2.WolfBarbarian.attack_duration, 'STF', 50, 59, 10, WIAS=90)\n",
    "d2.write_bp_table(sys.stdout, d2.WolfBarbarian.attack_duration, 'STF', 50, 59, 0, WIAS=60)\n",
    "d2.write_bp_table(sys.stdout, d2.WolfBarbarian.attack_duration, '2HS', 50, 59, 5, WIAS=60)\n",
    "d2.write_bp_table(sys.stdout, d2.WolfDruid.attack_duration, 'STF', 50, 72, 10, WIAS=50)\n",
    "d2.write_bp_table(sys.stdout, d2.WolfDruid.attack_duration, 'STF', 50, 72, 10, WIAS=60)\n",
    "d2.write_bp_table(sys.stdout, d2.WolfDruid.attack_duration, '2HS', 50, 72, 5, WIAS=60)\n",
    "d2.write_bp_table(sys.stdout, d2.Paladin.zeal_duration, '2HS', 100, 37, 10, WIAS=0)\n",
    "d2.write_bp_table(sys.stdout, d2.Act2Merc.jab_duration, 'HTH', 100, 0, 10)"
   ]
  },
  {
   "cell_type": "code",
   "execution_count": 4,
   "metadata": {},
   "outputs": [
    {
     "ename": "AttributeError",
     "evalue": "module 'pydiablo' has no attribute '__version__'",
     "output_type": "error",
     "traceback": [
      "\u001b[1;31m---------------------------------------------------------------------------\u001b[0m",
      "\u001b[1;31mAttributeError\u001b[0m                            Traceback (most recent call last)",
      "\u001b[1;32m<ipython-input-4-053c195e378c>\u001b[0m in \u001b[0;36m<module>\u001b[1;34m\u001b[0m\n\u001b[0;32m      1\u001b[0m \u001b[1;32mimport\u001b[0m \u001b[0mpydiablo\u001b[0m\u001b[1;33m\u001b[0m\u001b[1;33m\u001b[0m\u001b[0m\n\u001b[1;32m----> 2\u001b[1;33m \u001b[0mprint\u001b[0m\u001b[1;33m(\u001b[0m\u001b[0mpydiablo\u001b[0m\u001b[1;33m.\u001b[0m\u001b[0m__version__\u001b[0m\u001b[1;33m)\u001b[0m\u001b[1;33m\u001b[0m\u001b[1;33m\u001b[0m\u001b[0m\n\u001b[0m\u001b[0;32m      3\u001b[0m \u001b[1;31m#print d2.Character.animdata.get_data('PAA11HS')\u001b[0m\u001b[1;33m\u001b[0m\u001b[1;33m\u001b[0m\u001b[1;33m\u001b[0m\u001b[0m\n\u001b[0;32m      4\u001b[0m \u001b[1;31m#print d2.Paladin.foreswing_duration('A1','1HS', 100, 0, 0, 0)\u001b[0m\u001b[1;33m\u001b[0m\u001b[1;33m\u001b[0m\u001b[1;33m\u001b[0m\u001b[0m\n\u001b[0;32m      5\u001b[0m \u001b[1;31m#print d2.anim_duration(8, 256, 100, 0, 0, 0)\u001b[0m\u001b[1;33m\u001b[0m\u001b[1;33m\u001b[0m\u001b[1;33m\u001b[0m\u001b[0m\n",
      "\u001b[1;31mAttributeError\u001b[0m: module 'pydiablo' has no attribute '__version__'"
     ]
    }
   ],
   "source": [
    "import pydiablo\n",
    "print(pydiablo.__version__)\n",
    "#print d2.Character.animdata.get_data('PAA11HS')\n",
    "#print d2.Paladin.foreswing_duration('A1','1HS', 100, 0, 0, 0)\n",
    "#print d2.anim_duration(8, 256, 100, 0, 0, 0)\n",
    "#print d2.Character.animdata.get_data('PAA21HS')\n",
    "#print d2.anim_duration(10, 256, 100, 0, 0, 0)"
   ]
  },
  {
   "cell_type": "code",
   "execution_count": 3,
   "metadata": {
    "scrolled": false
   },
   "outputs": [
    {
     "name": "stdout",
     "output_type": "stream",
     "text": [
      "Class: Act1Merc\n",
      "Animation: attack\n",
      "Weapon: HTH\n",
      "AnimRate: 100\n",
      "SIAS: 0\n",
      "WSM: -10\n",
      "WIAS: 0\n",
      "ias\teias\tatk0\taidelay\tavg\taps\n",
      "0\t10\t13\t2\t15.00\t1.67\n",
      "7\t16\t12\t2\t14.00\t1.79\n",
      "18\t25\t11\t2\t13.00\t1.92\n",
      "35\t37\t10\t2\t12.00\t2.08\n",
      "60\t50\t9\t2\t11.00\t2.27\n",
      "109\t67\t8\t2\t10.00\t2.50\n",
      "Class: Act1Merc\n",
      "Animation: attack\n",
      "Weapon: HTH\n",
      "AnimRate: 100\n",
      "SIAS: 32\n",
      "WSM: -10\n",
      "WIAS: 0\n",
      "ias\teias\tatk0\taidelay\tavg\taps\n",
      "0\t42\t10\t2\t12.00\t2.08\n",
      "9\t50\t9\t2\t11.00\t2.27\n",
      "32\t67\t8\t2\t10.00\t2.50\n",
      "Class: Act1Merc\n",
      "Animation: attack\n",
      "Weapon: HTH\n",
      "AnimRate: 100\n",
      "SIAS: 33\n",
      "WSM: -10\n",
      "WIAS: 0\n",
      "ias\teias\tatk0\taidelay\tavg\taps\n",
      "0\t43\t10\t2\t12.00\t2.08\n",
      "8\t50\t9\t2\t11.00\t2.27\n",
      "30\t67\t8\t2\t10.00\t2.50\n",
      "Class: Act1Merc\n",
      "Animation: attack\n",
      "Weapon: HTH\n",
      "AnimRate: 100\n",
      "SIAS: 0\n",
      "WSM: 0\n",
      "WIAS: 0\n",
      "ias\teias\tatk0\taidelay\tavg\taps\n",
      "0\t0\t14\t2\t16.00\t1.56\n",
      "9\t8\t13\t2\t15.00\t1.67\n",
      "19\t16\t12\t2\t14.00\t1.79\n",
      "32\t25\t11\t2\t13.00\t1.92\n",
      "54\t37\t10\t2\t12.00\t2.08\n",
      "86\t50\t9\t2\t11.00\t2.27\n",
      "152\t67\t8\t2\t10.00\t2.50\n",
      "Class: Act1Merc\n",
      "Animation: attack\n",
      "Weapon: HTH\n",
      "AnimRate: 100\n",
      "SIAS: 32\n",
      "WSM: 0\n",
      "WIAS: 0\n",
      "ias\teias\tatk0\taidelay\tavg\taps\n",
      "0\t32\t11\t2\t13.00\t1.92\n",
      "6\t37\t10\t2\t12.00\t2.08\n",
      "22\t50\t9\t2\t11.00\t2.27\n",
      "50\t67\t8\t2\t10.00\t2.50\n",
      "Class: Act1Merc\n",
      "Animation: attack\n",
      "Weapon: HTH\n",
      "AnimRate: 100\n",
      "SIAS: 33\n",
      "WSM: 0\n",
      "WIAS: 0\n",
      "ias\teias\tatk0\taidelay\tavg\taps\n",
      "0\t33\t11\t2\t13.00\t1.92\n",
      "5\t37\t10\t2\t12.00\t2.08\n",
      "20\t50\t9\t2\t11.00\t2.27\n",
      "48\t67\t8\t2\t10.00\t2.50\n",
      "Class: Act1Merc\n",
      "Animation: attack\n",
      "Weapon: HTH\n",
      "AnimRate: 100\n",
      "SIAS: 0\n",
      "WSM: 10\n",
      "WIAS: 0\n",
      "ias\teias\tatk0\taidelay\tavg\taps\n",
      "0\t-10\t16\t2\t18.00\t1.39\n",
      "5\t-6\t15\t2\t17.00\t1.47\n",
      "11\t0\t14\t2\t16.00\t1.56\n",
      "22\t8\t13\t2\t15.00\t1.67\n",
      "34\t16\t12\t2\t14.00\t1.79\n",
      "50\t25\t11\t2\t13.00\t1.92\n",
      "78\t37\t10\t2\t12.00\t2.08\n",
      "120\t50\t9\t2\t11.00\t2.27\n",
      "215\t67\t8\t2\t10.00\t2.50\n",
      "Class: Act1Merc\n",
      "Animation: attack\n",
      "Weapon: HTH\n",
      "AnimRate: 100\n",
      "SIAS: 32\n",
      "WSM: 10\n",
      "WIAS: 0\n",
      "ias\teias\tatk0\taidelay\tavg\taps\n",
      "0\t22\t12\t2\t14.00\t1.79\n",
      "4\t25\t11\t2\t13.00\t1.92\n",
      "18\t37\t10\t2\t12.00\t2.08\n",
      "37\t50\t9\t2\t11.00\t2.27\n",
      "72\t67\t8\t2\t10.00\t2.50\n",
      "Class: Act1Merc\n",
      "Animation: attack\n",
      "Weapon: HTH\n",
      "AnimRate: 100\n",
      "SIAS: 33\n",
      "WSM: 10\n",
      "WIAS: 0\n",
      "ias\teias\tatk0\taidelay\tavg\taps\n",
      "0\t23\t12\t2\t14.00\t1.79\n",
      "3\t25\t11\t2\t13.00\t1.92\n",
      "16\t37\t10\t2\t12.00\t2.08\n",
      "35\t50\t9\t2\t11.00\t2.27\n",
      "70\t67\t8\t2\t10.00\t2.50\n"
     ]
    }
   ],
   "source": [
    "for wsm in [-10, 0, 10]:\n",
    "    d2.write_bp_table(sys.stdout, d2.Act1Merc.attack_duration, 'HTH', 100, 0, wsm)\n",
    "    d2.write_bp_table(sys.stdout, d2.Act1Merc.attack_duration, 'HTH', 100, 32, wsm)\n",
    "    d2.write_bp_table(sys.stdout, d2.Act1Merc.attack_duration, 'HTH', 100, 33, wsm)"
   ]
  },
  {
   "cell_type": "code",
   "execution_count": 4,
   "metadata": {},
   "outputs": [
    {
     "data": {
      "text/plain": [
       "88.53"
      ]
     },
     "execution_count": 4,
     "metadata": {},
     "output_type": "execute_result"
    }
   ],
   "source": [
    "2.27*39"
   ]
  },
  {
   "cell_type": "code",
   "execution_count": 5,
   "metadata": {},
   "outputs": [
    {
     "data": {
      "text/plain": [
       "80.0"
      ]
     },
     "execution_count": 5,
     "metadata": {},
     "output_type": "execute_result"
    }
   ],
   "source": [
    "2.5*32"
   ]
  },
  {
   "cell_type": "code",
   "execution_count": 8,
   "metadata": {},
   "outputs": [
    {
     "data": {
      "text/plain": [
       "6.4"
      ]
     },
     "execution_count": 8,
     "metadata": {},
     "output_type": "execute_result"
    }
   ],
   "source": [
    "16/2.5"
   ]
  },
  {
   "cell_type": "code",
   "execution_count": 9,
   "metadata": {},
   "outputs": [
    {
     "data": {
      "text/plain": [
       "6.167400881057269"
      ]
     },
     "execution_count": 9,
     "metadata": {},
     "output_type": "execute_result"
    }
   ],
   "source": [
    "14/2.27"
   ]
  },
  {
   "cell_type": "code",
   "execution_count": 11,
   "metadata": {},
   "outputs": [
    {
     "name": "stdout",
     "output_type": "stream",
     "text": [
      "Class: Amazon\n",
      "Animation: attack\n",
      "Weapon: BOW\n",
      "AnimRate: 100\n",
      "SIAS: 32\n",
      "WSM: 10\n",
      "WIAS: 0\n",
      "ias\teias\tatk0\tavg\taps\n",
      "0\t22\t11\t11.00\t2.27\n",
      "7\t28\t10\t10.00\t2.50\n",
      "23\t41\t9\t9.00\t2.78\n",
      "48\t56\t8\t8.00\t3.12\n",
      "95\t75\t7\t7.00\t3.57\n"
     ]
    }
   ],
   "source": [
    "d2.write_bp_table(sys.stdout, d2.Amazon.attack_duration, 'BOW', 100, 32, 10)"
   ]
  },
  {
   "cell_type": "code",
   "execution_count": 7,
   "metadata": {},
   "outputs": [
    {
     "data": {
      "text/plain": [
       "95"
      ]
     },
     "execution_count": 7,
     "metadata": {},
     "output_type": "execute_result"
    }
   ],
   "source": [
    "35+30+10+20"
   ]
  },
  {
   "cell_type": "code",
   "execution_count": 16,
   "metadata": {},
   "outputs": [
    {
     "name": "stdout",
     "output_type": "stream",
     "text": [
      "Class: Amazon\n",
      "Animation: fend\n",
      "Weapon: 2HT\n",
      "AnimRate: 100\n",
      "SIAS: 0\n",
      "WSM: 20\n",
      "WIAS: 0\n",
      "ias\teias\tatk0\tatk1\tatk2\tatk3\tatk4\tavg\taps\n",
      "0\t-20\t12\t9\t9\t9\t17\t11.20\t2.23\n",
      "4\t-17\t11\t9\t9\t9\t16\t10.80\t2.31\n",
      "9\t-12\t11\t8\t8\t8\t15\t10.00\t2.50\n",
      "13\t-9\t10\t8\t8\t8\t15\t9.80\t2.55\n",
      "16\t-6\t10\t8\t8\t8\t14\t9.60\t2.60\n",
      "24\t0\t9\t7\t7\t7\t13\t8.60\t2.91\n",
      "37\t8\t9\t7\t7\t7\t12\t8.40\t2.98\n",
      "46\t13\t8\t7\t7\t7\t12\t8.20\t3.05\n",
      "54\t17\t8\t6\t6\t6\t11\t7.40\t3.38\n",
      "80\t28\t8\t6\t6\t6\t10\t7.20\t3.47\n",
      "83\t29\t7\t6\t6\t6\t10\t7.00\t3.57\n",
      "125\t41\t7\t5\t5\t5\t9\t6.20\t4.03\n",
      "168\t50\t6\t5\t5\t5\t9\t6.00\t4.17\n",
      "208\t56\t6\t5\t5\t5\t8\t5.80\t4.31\n",
      "456\t75\t6\t4\t4\t4\t7\t5.00\t5.00\n",
      "Class: Amazon\n",
      "Animation: attack\n",
      "Weapon: 2HT\n",
      "AnimRate: 100\n",
      "SIAS: 0\n",
      "WSM: 20\n",
      "WIAS: 0\n",
      "ias\teias\tatk0\tatk1\tavg\taps\n",
      "0\t-20\t20\t20\t20.00\t1.25\n",
      "2\t-19\t19\t19\t19.00\t1.32\n",
      "6\t-15\t18\t18\t18.00\t1.39\n",
      "11\t-10\t17\t17\t17.00\t1.47\n",
      "18\t-5\t16\t16\t16.00\t1.56\n",
      "24\t0\t15\t15\t15.00\t1.67\n",
      "37\t8\t14\t14\t14.00\t1.79\n",
      "50\t15\t13\t13\t13.00\t1.92\n",
      "70\t24\t12\t12\t12.00\t2.08\n",
      "99\t34\t11\t11\t11.00\t2.27\n",
      "147\t46\t10\t10\t10.00\t2.50\n",
      "250\t61\t9\t9\t9.00\t2.78\n"
     ]
    }
   ],
   "source": [
    "d2.write_bp_table(sys.stdout, d2.Amazon.fend_duration, '2HT', 100, 0, 20, ntargets=5)\n",
    "d2.write_bp_table(sys.stdout, d2.Amazon.attack_duration, '2HT', 100, 0, 20)"
   ]
  },
  {
   "cell_type": "code",
   "execution_count": 17,
   "metadata": {},
   "outputs": [
    {
     "name": "stdout",
     "output_type": "stream",
     "text": [
      "Class: Act2Merc\n",
      "Animation: jab\n",
      "Weapon: HTH\n",
      "AnimRate: 100\n",
      "SIAS: 0\n",
      "WSM: 0\n",
      "WIAS: 0\n",
      "ias\teias\tatk0\tatk1\taidelay\tavg\taps\n",
      "0\t0\t14\t0\t2\t8.00\t3.12\n",
      "9\t8\t13\t0\t2\t7.50\t3.33\n",
      "20\t17\t12\t0\t2\t7.00\t3.57\n",
      "37\t28\t11\t0\t2\t6.50\t3.85\n",
      "63\t41\t10\t0\t2\t6.00\t4.17\n",
      "105\t56\t9\t0\t2\t5.50\t4.55\n",
      "200\t75\t8\t0\t2\t5.00\t5.00\n"
     ]
    }
   ],
   "source": [
    "d2.write_bp_table(sys.stdout, d2.Act2Merc.jab_duration, 'HTH', 100, 0, 0)"
   ]
  },
  {
   "cell_type": "code",
   "execution_count": null,
   "metadata": {},
   "outputs": [],
   "source": []
  }
 ],
 "metadata": {
  "kernelspec": {
   "display_name": "Python 3",
   "language": "python",
   "name": "python3"
  },
  "language_info": {
   "codemirror_mode": {
    "name": "ipython",
    "version": 3
   },
   "file_extension": ".py",
   "mimetype": "text/x-python",
   "name": "python",
   "nbconvert_exporter": "python",
   "pygments_lexer": "ipython3",
   "version": "3.7.3"
  }
 },
 "nbformat": 4,
 "nbformat_minor": 2
}
