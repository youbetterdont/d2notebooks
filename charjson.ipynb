{
 "cells": [
  {
   "cell_type": "code",
   "execution_count": 1,
   "metadata": {},
   "outputs": [],
   "source": [
    "import pydiablo.char as d2\n",
    "#import pydiablo as dd2\n",
    "import sys\n",
    "import importlib\n",
    "import pickle\n",
    "#importlib.reload(d2)"
   ]
  },
  {
   "cell_type": "code",
   "execution_count": 2,
   "metadata": {
    "scrolled": false
   },
   "outputs": [
    {
     "name": "stderr",
     "output_type": "stream",
     "text": [
      "2019-06-08 07:58:53,903 - pydiablo - DEBUG - NetEase is a Barbarian\n",
      "2019-06-08 07:58:53,913 - pydiablo - DEBUG - Creating The Disciple set item Laying of Hands.\n",
      "2019-06-08 07:58:53,914 - pydiablo - DEBUG - Creating Orphan's Call set item Guillaume's Face.\n",
      "2019-06-08 07:58:53,916 - pydiablo - DEBUG - Processing Laying of Hands on NetEase with bonuses from 1 items from the The Disciple set.\n",
      "2019-06-08 07:58:53,918 - pydiablo - DEBUG - Processing Guillaume's Face on NetEase with bonuses from 1 items from the Orphan's Call set.\n",
      "2019-06-08 07:58:53,920 - pydiablo - DEBUG - EvDontDoDQuest is a Sorceress\n",
      "2019-06-08 07:58:53,921 - pydiablo - DEBUG - Creating Aldur's Watchtower set item Aldur's Advance.\n",
      "2019-06-08 07:58:53,922 - pydiablo - DEBUG - Creating Trang-Oul's Avatar set item Trang-Oul's Claws.\n",
      "2019-06-08 07:58:53,924 - pydiablo - DEBUG - Processing Aldur's Advance on EvDontDoDQuest with bonuses from 1 items from the Aldur's Watchtower set.\n",
      "2019-06-08 07:58:53,926 - pydiablo - DEBUG - Processing Trang-Oul's Claws on EvDontDoDQuest with bonuses from 1 items from the Trang-Oul's Avatar set.\n",
      "2019-06-08 07:58:53,928 - pydiablo - DEBUG - EvHammer is a Paladin\n",
      "2019-06-08 07:58:53,929 - pydiablo - DEBUG - Activision is a Sorceress\n",
      "2019-06-08 07:58:53,930 - pydiablo - DEBUG - Creating Tal Rasha's Wrappings set item Tal Rasha's Horadric Crest.\n",
      "2019-06-08 07:58:53,931 - pydiablo - DEBUG - Creating Tal Rasha's Wrappings set item Tal Rasha's Adjudication.\n",
      "2019-06-08 07:58:53,932 - pydiablo - DEBUG - Creating Tal Rasha's Wrappings set item Tal Rasha's Howling Wind.\n",
      "2019-06-08 07:58:53,933 - pydiablo - DEBUG - Creating Tal Rasha's Wrappings set item Tal Rasha's Fire-Spun Cloth.\n",
      "2019-06-08 07:58:53,934 - pydiablo - DEBUG - Creating Aldur's Watchtower set item Aldur's Advance.\n",
      "2019-06-08 07:58:53,935 - pydiablo - DEBUG - Creating Orphan's Call set item Guillaume's Face.\n",
      "2019-06-08 07:58:53,936 - pydiablo - DEBUG - Creating Tal Rasha's Wrappings set item Tal Rasha's Lidless Eye.\n",
      "2019-06-08 07:58:53,937 - pydiablo - DEBUG - Processing Tal Rasha's Lidless Eye on Activision with bonuses from 5 items from the Tal Rasha's Wrappings set.\n",
      "2019-06-08 07:58:53,939 - pydiablo - DEBUG - Found property sor to include on Tal Rasha's Lidless Eye. This property adds stats ['item_addclassskills'].\n",
      "2019-06-08 07:58:53,940 - pydiablo - DEBUG - Attributes [{'id': 83, 'name': '+{1} to {0} Skill Levels', 'values': [1, 1]}] active on Tal Rasha's Lidless Eye.\n",
      "2019-06-08 07:58:53,941 - pydiablo - DEBUG - Found property pierce-fire to include on Tal Rasha's Lidless Eye. This property adds stats ['passive_fire_pierce'].\n",
      "2019-06-08 07:58:53,942 - pydiablo - DEBUG - Attributes [{'id': 333, 'name': '-{0}% To Enemy Fire Resistance', 'values': [15]}] active on Tal Rasha's Lidless Eye.\n",
      "2019-06-08 07:58:53,943 - pydiablo - DEBUG - Found property pierce-ltng to include on Tal Rasha's Lidless Eye. This property adds stats ['passive_ltng_pierce'].\n",
      "2019-06-08 07:58:53,944 - pydiablo - DEBUG - Attributes [{'id': 334, 'name': '-{0}% To Enemy Lightning Resistance', 'values': [15]}] active on Tal Rasha's Lidless Eye.\n",
      "2019-06-08 07:58:53,946 - pydiablo - DEBUG - Found property extra-cold to include on Tal Rasha's Lidless Eye. This property adds stats ['passive_cold_mastery'].\n",
      "2019-06-08 07:58:53,950 - pydiablo - DEBUG - Attributes [{'id': 331, 'name': '{0}% To Cold Skill Damage', 'values': [15]}] active on Tal Rasha's Lidless Eye.\n",
      "2019-06-08 07:58:53,952 - pydiablo - DEBUG - Processing Tal Rasha's Horadric Crest on Activision with bonuses from 5 items from the Tal Rasha's Wrappings set.\n",
      "2019-06-08 07:58:53,954 - pydiablo - DEBUG - Processing Tal Rasha's Adjudication on Activision with bonuses from 5 items from the Tal Rasha's Wrappings set.\n",
      "2019-06-08 07:58:53,956 - pydiablo - DEBUG - Found property cast2 to include on Tal Rasha's Adjudication. This property adds stats ['item_fastercastrate'].\n",
      "2019-06-08 07:58:53,957 - pydiablo - DEBUG - Attributes [{'id': 105, 'name': '{0}% Faster Cast Rate', 'values': [10]}] active on Tal Rasha's Adjudication.\n",
      "2019-06-08 07:58:53,959 - pydiablo - DEBUG - Processing Tal Rasha's Howling Wind on Activision with bonuses from 5 items from the Tal Rasha's Wrappings set.\n",
      "2019-06-08 07:58:53,960 - pydiablo - DEBUG - Found property cast2 to include on Tal Rasha's Howling Wind. This property adds stats ['item_fastercastrate'].\n",
      "2019-06-08 07:58:53,961 - pydiablo - DEBUG - Attributes [{'id': 105, 'name': '{0}% Faster Cast Rate', 'values': [10]}] active on Tal Rasha's Howling Wind.\n",
      "2019-06-08 07:58:53,963 - pydiablo - DEBUG - Processing Tal Rasha's Fire-Spun Cloth on Activision with bonuses from 5 items from the Tal Rasha's Wrappings set.\n",
      "2019-06-08 07:58:53,966 - pydiablo - DEBUG - Found property ac to include on Tal Rasha's Fire-Spun Cloth. This property adds stats ['armorclass'].\n",
      "2019-06-08 07:58:53,967 - pydiablo - DEBUG - Attributes [{'id': 31, 'name': '+{0} Defense', 'values': [60]}] active on Tal Rasha's Fire-Spun Cloth.\n",
      "2019-06-08 07:58:53,968 - pydiablo - DEBUG - Found property cast2 to include on Tal Rasha's Fire-Spun Cloth. This property adds stats ['item_fastercastrate'].\n",
      "2019-06-08 07:58:53,969 - pydiablo - DEBUG - Attributes [{'id': 105, 'name': '{0}% Faster Cast Rate', 'values': [10]}] active on Tal Rasha's Fire-Spun Cloth.\n",
      "2019-06-08 07:58:53,970 - pydiablo - DEBUG - Processing Aldur's Advance on Activision with bonuses from 1 items from the Aldur's Watchtower set.\n",
      "2019-06-08 07:58:53,973 - pydiablo - DEBUG - EvBlizz is a Sorceress\n",
      "2019-06-08 07:58:53,974 - pydiablo - DEBUG - Creating Tal Rasha's Wrappings set item Tal Rasha's Howling Wind.\n",
      "2019-06-08 07:58:53,976 - pydiablo - DEBUG - Creating Tal Rasha's Wrappings set item Tal Rasha's Fire-Spun Cloth.\n",
      "2019-06-08 07:58:53,977 - pydiablo - DEBUG - Creating Aldur's Watchtower set item Aldur's Advance.\n",
      "2019-06-08 07:58:53,978 - pydiablo - DEBUG - Creating Trang-Oul's Avatar set item Trang-Oul's Claws.\n",
      "2019-06-08 07:58:53,980 - pydiablo - DEBUG - Processing Tal Rasha's Howling Wind on EvBlizz with bonuses from 2 items from the Tal Rasha's Wrappings set.\n",
      "2019-06-08 07:58:53,982 - pydiablo - DEBUG - Found property cast2 to include on Tal Rasha's Howling Wind. This property adds stats ['item_fastercastrate'].\n",
      "2019-06-08 07:58:53,983 - pydiablo - DEBUG - Attributes [{'id': 105, 'name': '{0}% Faster Cast Rate', 'values': [10]}] active on Tal Rasha's Howling Wind.\n",
      "2019-06-08 07:58:53,984 - pydiablo - DEBUG - Processing Tal Rasha's Fire-Spun Cloth on EvBlizz with bonuses from 2 items from the Tal Rasha's Wrappings set.\n",
      "2019-06-08 07:58:53,986 - pydiablo - DEBUG - Found property ac to include on Tal Rasha's Fire-Spun Cloth. This property adds stats ['armorclass'].\n",
      "2019-06-08 07:58:53,987 - pydiablo - DEBUG - Attributes [{'id': 31, 'name': '+{0} Defense', 'values': [60]}] active on Tal Rasha's Fire-Spun Cloth.\n",
      "2019-06-08 07:58:53,989 - pydiablo - DEBUG - Processing Aldur's Advance on EvBlizz with bonuses from 1 items from the Aldur's Watchtower set.\n",
      "2019-06-08 07:58:53,990 - pydiablo - DEBUG - Processing Trang-Oul's Claws on EvBlizz with bonuses from 1 items from the Trang-Oul's Avatar set.\n",
      "2019-06-08 07:58:53,992 - pydiablo - DEBUG - bode is a Sorceress\n",
      "2019-06-08 07:58:53,993 - pydiablo - DEBUG - Creating Tal Rasha's Wrappings set item Tal Rasha's Adjudication.\n",
      "2019-06-08 07:58:53,994 - pydiablo - DEBUG - Creating Tal Rasha's Wrappings set item Tal Rasha's Howling Wind.\n",
      "2019-06-08 07:58:53,995 - pydiablo - DEBUG - Creating Tal Rasha's Wrappings set item Tal Rasha's Fire-Spun Cloth.\n",
      "2019-06-08 07:58:53,998 - pydiablo - DEBUG - Processing Tal Rasha's Adjudication on bode with bonuses from 3 items from the Tal Rasha's Wrappings set.\n",
      "2019-06-08 07:58:53,999 - pydiablo - DEBUG - Processing Tal Rasha's Howling Wind on bode with bonuses from 3 items from the Tal Rasha's Wrappings set.\n",
      "2019-06-08 07:58:54,001 - pydiablo - DEBUG - Found property cast2 to include on Tal Rasha's Howling Wind. This property adds stats ['item_fastercastrate'].\n",
      "2019-06-08 07:58:54,002 - pydiablo - DEBUG - Attributes [{'id': 105, 'name': '{0}% Faster Cast Rate', 'values': [10]}] active on Tal Rasha's Howling Wind.\n",
      "2019-06-08 07:58:54,004 - pydiablo - DEBUG - Processing Tal Rasha's Fire-Spun Cloth on bode with bonuses from 3 items from the Tal Rasha's Wrappings set.\n"
     ]
    },
    {
     "name": "stderr",
     "output_type": "stream",
     "text": [
      "2019-06-08 07:58:54,005 - pydiablo - DEBUG - Found property ac to include on Tal Rasha's Fire-Spun Cloth. This property adds stats ['armorclass'].\n",
      "2019-06-08 07:58:54,006 - pydiablo - DEBUG - Attributes [{'id': 31, 'name': '+{0} Defense', 'values': [60]}] active on Tal Rasha's Fire-Spun Cloth.\n",
      "2019-06-08 07:58:54,007 - pydiablo - DEBUG - Found property cast2 to include on Tal Rasha's Fire-Spun Cloth. This property adds stats ['item_fastercastrate'].\n",
      "2019-06-08 07:58:54,009 - pydiablo - DEBUG - Attributes [{'id': 105, 'name': '{0}% Faster Cast Rate', 'values': [10]}] active on Tal Rasha's Fire-Spun Cloth.\n"
     ]
    },
    {
     "name": "stdout",
     "output_type": "stream",
     "text": [
      "{'energy': [10], 'maxhp': [57], 'maxmana': [77], 'item_fastercastrate': [20], 'item_singleskill': {61: [2], 63: [1], 65: [2]}, 'item_addclassskills': {1: [1]}, 'passive_fire_pierce': [15], 'passive_ltng_pierce': [15], 'passive_cold_mastery': [15]}\n",
      "{}\n",
      "{'maxhp': [60, 50, 50, 37, 28], 'maxmana': [30, 42, 30, 107], 'armorclass': [45, 400, 60, 15], 'fireresist': [15, 40, 44, 19], 'lightresist': [15, 33, 40, 19, 35], 'coldresist': [15, 40, 19, 35], 'poisonresist': [15, 19, 35], 'lifedrainmindam': [10, 4], 'manadrainmindam': [10], 'dexterity': [10, 20, 18], 'lightmindam': {3: [32]}, 'lightmaxdam': {3: [32]}, 'item_addclassskills': {1: [2, 3]}, 'item_fastercastrate': [10, 10, 10, 25], 'magic_damage_reduction': [15, 3], 'item_magicbonus': [88, 24, 26, 15, 33], 'item_req_percent': [-60, -20], 'tohit': [64, 25], 'item_attackertakesdamage': [3, 14], 'item_damagetomana': [37, 10], 'maxstamina': [180, 50], 'staminarecoverybonus': [32], 'item_fastermovevelocity': [40], 'item_indesctructible': [1], 'item_armor_percent': [21], 'item_goldbonus': [200], 'item_lightradius': [2, 8], 'item_addskill_tab': {1: {2: [1, 1, 1, 1]}}, 'item_allskills': [1, 2], 'item_hp_perlevel': [4], 'strength': [18], 'energy': [18], 'vitality': [18, 22], 'item_skillonhit': {197: {10: [5]}}, 'item_charged_skill': {10: {62: {30: [10]}}}, 'armorclass_vs_missile': [250], 'item_fastergethitrate': [55], 'item_absorbmagic': [5]}\n"
     ]
    }
   ],
   "source": [
    "def slash_data_to_pickle(char_names, pickle_file):\n",
    "    \"\"\"Save the slash characters specified by char_names list to a pickle file.\"\"\"\n",
    "    chardata = [d2.chardata_from_slash(char_name) for char_name in char_names]\n",
    "    with open(pickle_file, 'wb') as f:\n",
    "        pickle.dump(chardata, f)\n",
    "        \n",
    "def char_data_from_pickle(pickle_file):\n",
    "    \"\"\"Load character data from a pickle file; returns a list of character json data.\"\"\"\n",
    "    with open(pickle_file, 'rb') as f:\n",
    "        return pickle.load(f)\n",
    "    \n",
    "char_names = ['netease', 'evdontdodquest', 'evhammer', 'activision', 'evblizz', 'bode']\n",
    "# uncomment to reload from slash armory\n",
    "#slash_data_to_pickle(char_names, 'chardata.obj')\n",
    "chardata = char_data_from_pickle('chardata.obj')\n",
    "\n",
    "# build the characters\n",
    "chars = [d2.create_from_json(char_json) for char_json in chardata]\n",
    "\n",
    "#print some stuff\n",
    "char = chars[3]\n",
    "#print([item.item for item in char.items])\n",
    "#print(char.set_map['Tal Rasha\\'s Wrappings'][1].item['set_attributes'])\n",
    "print(char.primary_weapon_stats)\n",
    "print(char.secondary_weapon_stats)\n",
    "print(char.off_weapon_stats)"
   ]
  },
  {
   "cell_type": "code",
   "execution_count": 6,
   "metadata": {},
   "outputs": [
    {
     "name": "stderr",
     "output_type": "stream",
     "text": [
      "2019-06-06 18:55:30,657 - pydiablo - DEBUG - Tal Rasha's Wrappings is a 5 piece set.\n",
      "2019-06-06 18:55:30,658 - pydiablo - DEBUG - Found property regen to include from Tal Rasha's Wrappings set. This property calls funcions [{'stat': 'hpregen', 'set_': -1, 'val': -1, 'func': 1}]. Arguments to property function: param=-1 min=10 max=10\n",
      "2019-06-06 18:55:30,660 - pydiablo - DEBUG - Created stat {'stat': 'hpregen', 'values': [10]}.\n",
      "2019-06-06 18:55:30,662 - pydiablo - DEBUG - Found property mag% to include from Tal Rasha's Wrappings set. This property calls funcions [{'stat': 'item_magicbonus', 'set_': -1, 'val': -1, 'func': 1}]. Arguments to property function: param=-1 min=65 max=65\n",
      "2019-06-06 18:55:30,663 - pydiablo - DEBUG - Created stat {'stat': 'item_magicbonus', 'values': [65]}.\n",
      "2019-06-06 18:55:30,664 - pydiablo - DEBUG - Found property balance2 to include from Tal Rasha's Wrappings set. This property calls funcions [{'stat': 'item_fastergethitrate', 'set_': -1, 'val': -1, 'func': 8}]. Arguments to property function: param=False min=25 max=25\n",
      "2019-06-06 18:55:30,666 - pydiablo - DEBUG - Created stat {'stat': 'item_fastergethitrate', 'values': [25]}.\n",
      "2019-06-06 18:55:30,667 - pydiablo - DEBUG - Found property res-all to include from Tal Rasha's Wrappings set. This property calls funcions [{'stat': 'fireresist', 'set_': -1, 'val': -1, 'func': 1}, {'stat': 'lightresist', 'set_': False, 'val': False, 'func': 3}, {'stat': 'coldresist', 'set_': False, 'val': False, 'func': 3}, {'stat': 'poisonresist', 'set_': False, 'val': False, 'func': 3}]. Arguments to property function: param=-1 min=50 max=50\n",
      "2019-06-06 18:55:30,668 - pydiablo - DEBUG - Created stat {'stat': 'fireresist', 'values': [50]}.\n",
      "2019-06-06 18:55:30,670 - pydiablo - DEBUG - Created stat {'stat': 'lightresist', 'values': [50]}.\n",
      "2019-06-06 18:55:30,670 - pydiablo - DEBUG - Created stat {'stat': 'coldresist', 'values': [50]}.\n",
      "2019-06-06 18:55:30,671 - pydiablo - DEBUG - Created stat {'stat': 'poisonresist', 'values': [50]}.\n",
      "2019-06-06 18:55:30,672 - pydiablo - DEBUG - Found property sor to include from Tal Rasha's Wrappings set. This property calls funcions [{'stat': 'item_addclassskills', 'set_': -1, 'val': 1, 'func': 21}]. Arguments to property function: param=-1 min=3 max=3\n",
      "2019-06-06 18:55:30,674 - pydiablo - DEBUG - Created stat {'stat': 'item_addclassskills', 'values': [1, 3]}.\n",
      "2019-06-06 18:55:30,675 - pydiablo - DEBUG - Found property ac to include from Tal Rasha's Wrappings set. This property calls funcions [{'stat': 'armorclass', 'set_': -1, 'val': -1, 'func': 1}]. Arguments to property function: param=-1 min=150 max=150\n",
      "2019-06-06 18:55:30,676 - pydiablo - DEBUG - Created stat {'stat': 'armorclass', 'values': [150]}.\n",
      "2019-06-06 18:55:30,676 - pydiablo - DEBUG - Found property hp to include from Tal Rasha's Wrappings set. This property calls funcions [{'stat': 'maxhp', 'set_': -1, 'val': -1, 'func': 1}]. Arguments to property function: param=-1 min=150 max=150\n",
      "2019-06-06 18:55:30,677 - pydiablo - DEBUG - Created stat {'stat': 'maxhp', 'values': [150]}.\n",
      "2019-06-06 18:55:30,678 - pydiablo - DEBUG - Found property ac-miss to include from Tal Rasha's Wrappings set. This property calls funcions [{'stat': 'armorclass_vs_missile', 'set_': -1, 'val': -1, 'func': 1}]. Arguments to property function: param= min=50 max=50\n",
      "2019-06-06 18:55:30,679 - pydiablo - DEBUG - Created stat {'stat': 'armorclass_vs_missile', 'values': [50]}.\n",
      "2019-06-06 18:55:30,680 - pydiablo - DEBUG - Found property state to include from Tal Rasha's Wrappings set. This property calls funcions [{'stat': 'state', 'set_': -1, 'val': -1, 'func': 24}]. Arguments to property function: param=fullsetgeneric min=1 max=1\n",
      "2019-06-06 18:55:30,682 - pydiablo - DEBUG - Created stat {}.\n"
     ]
    }
   ],
   "source": [
    "tal_rasha_set = d2.Set('Tal Rasha\\'s Wrappings')\n",
    "tal_rasha_set.attributes(5)"
   ]
  },
  {
   "cell_type": "code",
   "execution_count": 7,
   "metadata": {
    "scrolled": false
   },
   "outputs": [],
   "source": [
    "itemstatcost = d2.D2Data('data/global/excel/ItemStatCost.txt', 'Stat')\n",
    "properties = d2.D2Data('data/global/excel/Properties.txt', 'code', usecols=range(30))"
   ]
  },
  {
   "cell_type": "code",
   "execution_count": 8,
   "metadata": {},
   "outputs": [
    {
     "name": "stdout",
     "output_type": "stream",
     "text": [
      "func 1\n",
      "Save Bits: [11, 9, 8, 6, 8, 6, 8, 7, 7, 7, 8, 6, 9, 6, 10, 6, 8, 9, 8, 8, 9, 6, 10, 10, 10, 9, 6, 8, 5, 8, 5, 8, 5, 8, 5, 8, 5, 8, 5, 7, 7, 7, 7, 7, 7, 7, 7, 8, 6, 7, 9, 8, 7, 8, 8, 8, 9, 7, 7, 1, 4, 24, 8, 8, 9, 7, 7, 1, 7, 7, 1, 9, 7, 9, 9, 10, 10, 1, 3, 5, 5, 7, 7, 7, 7, 7, 7, 7, 7, 1, 7, 7, 7, 7, 8, 8, 8, 8, 8, 9, 9, 9, 9, 8, 9, 8, 9, 7, 7, 1, 7]\n",
      "Save Param Bits: [0, 0, 0, 0, 0, 0, 0, 0, 0, 0, 0, 0, 0, 0, 0, 0, 0, 0, 0, 0, 0, 0, 0, 0, 0, 0, 0, 0, 0, 0, 0, 0, 0, 0, 0, 0, 0, 0, 0, 0, 0, 0, 0, 0, 0, 0, 0, 0, 0, 0, 0, 0, 0, 0, 0, 0, 0, 0, 0, 0, 0, 0, 0, 0, 0, 0, 0, 0, 0, 0, 0, 0, 0, 0, 0, 0, 0, 0, 0, 0, 0, 0, 0, 0, 0, 0, 0, 0, 0, 0, 0, 0, 0, 0, 0, 0, 0, 0, 0, 0, 0, 0, 0, 0, 0, 0, 0, 0, 0, 0, 0]\n",
      "func 2\n",
      "Save Bits: [9]\n",
      "Save Param Bits: [0]\n",
      "func 5\n",
      "Bad key: \n",
      "Save Bits: []\n",
      "Save Param Bits: []\n",
      "func 6\n",
      "Bad key: \n",
      "Save Bits: []\n",
      "Save Param Bits: []\n",
      "func 7\n",
      "Bad key: \n",
      "Save Bits: []\n",
      "Save Param Bits: []\n",
      "func 13\n",
      "Save Bits: [7]\n",
      "Save Param Bits: [0]\n",
      "func 8\n",
      "Save Bits: [7, 7, 7, 7, 7, 7, 7, 7, 7, 7, 7, 7, 7, 7, 7]\n",
      "Save Param Bits: [0, 0, 0, 0, 0, 0, 0, 0, 0, 0, 0, 0, 0, 0, 0]\n",
      "func 21\n",
      "Save Bits: [3, 3, 3, 3, 3, 3, 3, 3]\n",
      "Save Param Bits: [3, 3, 3, 3, 3, 3, 3, 3]\n",
      "func 24\n",
      "Save Bits: [7, 9, 9, 1]\n",
      "Save Param Bits: [10, 10, 10, 8]\n",
      "func 22\n",
      "Save Bits: [3, 5, 6]\n",
      "Save Param Bits: [9, 9, 9]\n",
      "func 10\n",
      "Save Bits: [3]\n",
      "Save Param Bits: [16]\n",
      "func 11\n",
      "Save Bits: [7, 7, 7, 7, 7, 7]\n",
      "Save Param Bits: [16, 16, 16, 16, 16, 16]\n",
      "func 14\n",
      "Save Bits: [4]\n",
      "Save Param Bits: [0]\n",
      "func 15\n",
      "Save Bits: [8, 6, 8, 8, 10, 6, 6, 8]\n",
      "Save Param Bits: [0, 0, 0, 0, 0, 0, 0, 0]\n",
      "func 17\n",
      "Save Bits: [6, 6, 6, 6, 6, 6, 6, 6, 6, 6, 6, 6, 6, 6, 6, 6, 6, 6, 6, 6, 6, 6, 6, 6, 5, 6, 6, 6, 6, 6, 6, 6, 6, 6, 6, 6, 6, 6, 6, 3]\n",
      "Save Param Bits: [0, 0, 0, 0, 0, 0, 0, 0, 0, 0, 0, 0, 0, 0, 0, 0, 0, 0, 0, 0, 0, 0, 0, 0, 0, 0, 0, 0, 0, 0, 0, 0, 0, 0, 0, 0, 0, 0, 0, 0]\n",
      "func 18\n",
      "Save Bits: [22, 22, 22, 22, 22, 22, 22, 22, 22, 22, 22, 22, 22, 22, 22, 22, 22, 22, 22, 22, 22, 22, 22, 22, 22, 22, 22, 22, 22, 22, 22, 22, 22, 22, 22, 22]\n",
      "Save Param Bits: [0, 0, 0, 0, 0, 0, 0, 0, 0, 0, 0, 0, 0, 0, 0, 0, 0, 0, 0, 0, 0, 0, 0, 0, 0, 0, 0, 0, 0, 0, 0, 0, 0, 0, 0, 0]\n",
      "func 20\n",
      "Bad key: \n",
      "Save Bits: []\n",
      "Save Param Bits: []\n",
      "func 19\n",
      "Save Bits: [16]\n",
      "Save Param Bits: [16]\n",
      "func 12\n",
      "Save Bits: [3]\n",
      "Save Param Bits: [9]\n",
      "func 23\n",
      "Bad key: \n",
      "Save Bits: []\n",
      "Save Param Bits: []\n",
      "func 36\n",
      "Save Bits: [3]\n",
      "Save Param Bits: [3]\n"
     ]
    }
   ],
   "source": [
    "func_map = {}\n",
    "for line in properties.data:\n",
    "    if line['func1'] >= 0:\n",
    "        if line['func1'] not in func_map:\n",
    "            func_map[line['func1']] = []\n",
    "        func_map[line['func1']].append(line['stat1'])\n",
    "for func, stat_list in func_map.items():\n",
    "    print('func {}'.format(func))\n",
    "    save_bits = []\n",
    "    save_param = []\n",
    "    for stat in stat_list:\n",
    "        try:\n",
    "            save_bits.append(itemstatcost.get_data(stat, 'Save_Bits'))\n",
    "            num_bits = itemstatcost.get_data(stat, 'Save_Param_Bits')\n",
    "            num_bits = num_bits if num_bits > 0 else 0\n",
    "            save_param.append(num_bits)\n",
    "        except KeyError as e:\n",
    "            print('Bad key: {}'.format(stat))\n",
    "    print('Save Bits: {}'.format(save_bits))\n",
    "    print('Save Param Bits: {}'.format(save_param))"
   ]
  },
  {
   "cell_type": "code",
   "execution_count": 6,
   "metadata": {},
   "outputs": [
    {
     "name": "stdout",
     "output_type": "stream",
     "text": [
      "dict_keys(['identified', 'socketed', 'new', 'is_ear', 'starter_item', 'simple_item', 'ethereal', 'personalized', 'given_runeword', 'location_id', 'position_x', 'position_y', 'alt_position_id', 'type', 'type_id', 'type_name', 'nr_of_items_in_sockets', 'id', 'level', 'quality', 'multiple_pictures', 'picture_id', 'class_specific', 'low_quality_id', 'timestamp', 'ear_attributes', 'total_nr_of_sockets', 'runeword_attributes', 'set_list_count', 'set_attributes', 'magic_attributes', 'socketed_items'])\n",
      "ibk\n",
      "cm3\n",
      "cm3\n",
      "cm3\n",
      "cm3\n",
      "rin\n",
      "tbk\n",
      "rin\n",
      "ci2\n",
      "xhm\n",
      "r23\n",
      "rin\n",
      "ulc\n",
      "ci2\n",
      "cm2\n"
     ]
    }
   ],
   "source": [
    "print(char.chardata['character']['d2s']['items'][0].keys())\n",
    "for item in char.chardata['character']['d2s']['items']:\n",
    "    if item['location_id']==0:\n",
    "        if item['alt_position_id']==1:\n",
    "            print(item['type'])"
   ]
  },
  {
   "cell_type": "markdown",
   "metadata": {},
   "source": [
    "testmap = {'lowercase': {'a': 0, 'b': 1}, 'uppercase': {'A': 2, 'B': 3}, 'alphabet': ['a','b','c']}\n",
    "testlc = testmap['lowercase']\n",
    "testlc['a'] = 5\n",
    "print(testmap)\n",
    "testlist = testmap['alphabet']\n",
    "testlist[0] = 'A'\n",
    "print(testmap)"
   ]
  },
  {
   "cell_type": "code",
   "execution_count": 7,
   "metadata": {},
   "outputs": [
    {
     "name": "stdout",
     "output_type": "stream",
     "text": [
      "True\n"
     ]
    }
   ],
   "source": [
    "testlist2 = ['a', 'b', 'c']\n",
    "mychar = 'c'\n",
    "print(mychar in testlist2)"
   ]
  },
  {
   "cell_type": "code",
   "execution_count": 8,
   "metadata": {},
   "outputs": [
    {
     "name": "stdout",
     "output_type": "stream",
     "text": [
      "{4: {'b': {'a': []}}}\n",
      "{'a': []}\n",
      "[]\n"
     ]
    }
   ],
   "source": [
    "mid = 4\n",
    "mlist = ['a', 'b', 'c']\n",
    "mdict = {}\n",
    "\n",
    "#if mid not in mdict:\n",
    "#    if len(mlist) > 1:\n",
    "#        mdict[mid] = {}\n",
    "#        ldict = mdict[mid]\n",
    "#        for value in mlist[:-1]:\n",
    "#            if value not in ldict:\n",
    "#                ldict[value] = {}\n",
    "#            ldict = ldict[value]\n",
    "#    else:\n",
    "#        mdict[mid] = []\n",
    "\n",
    "ldict = mdict\n",
    "lkey = mid\n",
    "for value in mlist[:-1][::-1]:\n",
    "    if lkey not in ldict:\n",
    "        ldict[lkey] = {}\n",
    "    ldict = ldict[lkey]\n",
    "    lkey = value\n",
    "if lkey not in ldict:\n",
    "    ldict[lkey] = []\n",
    "\n",
    "print(mdict)\n",
    "print(mdict[4]['b'])\n",
    "print(mdict[4]['b']['a'])\n",
    "#mdict[4]['b']['a'] should be list containing c\n",
    "#mdict[4] should be dict\n",
    "#mdict[4]['b'] should be dict"
   ]
  },
  {
   "cell_type": "code",
   "execution_count": 9,
   "metadata": {},
   "outputs": [],
   "source": [
    "weflist = []\n",
    "for x in weflist:\n",
    "    print(x)"
   ]
  },
  {
   "cell_type": "code",
   "execution_count": 10,
   "metadata": {},
   "outputs": [
    {
     "name": "stdout",
     "output_type": "stream",
     "text": [
      "None\n"
     ]
    }
   ],
   "source": [
    "def testargs(*args):\n",
    "    for arg in args:\n",
    "        print(arg)\n",
    "    \n",
    "testargs(None)"
   ]
  },
  {
   "cell_type": "code",
   "execution_count": 11,
   "metadata": {},
   "outputs": [
    {
     "name": "stdout",
     "output_type": "stream",
     "text": [
      "[]\n"
     ]
    }
   ],
   "source": [
    "a = [None]\n",
    "print([])"
   ]
  },
  {
   "cell_type": "code",
   "execution_count": 12,
   "metadata": {},
   "outputs": [
    {
     "name": "stdout",
     "output_type": "stream",
     "text": [
      "0\n",
      "1\n",
      "2\n"
     ]
    }
   ],
   "source": [
    "def test_gen():\n",
    "    if True:\n",
    "        for x in range(3):\n",
    "            yield x\n",
    "\n",
    "def print_gen(*gen):\n",
    "    for x in gen:\n",
    "        print(x)\n",
    "        \n",
    "print_gen(*test_gen())"
   ]
  },
  {
   "cell_type": "code",
   "execution_count": 4,
   "metadata": {},
   "outputs": [
    {
     "data": {
      "text/plain": [
       "[1, 2, 3, 4]"
      ]
     },
     "execution_count": 4,
     "metadata": {},
     "output_type": "execute_result"
    }
   ],
   "source": [
    "[1,2]+[3,4]"
   ]
  },
  {
   "cell_type": "code",
   "execution_count": 3,
   "metadata": {},
   "outputs": [
    {
     "name": "stdout",
     "output_type": "stream",
     "text": [
      "Class: Amazon\n",
      "Animation: strafe\n",
      "Weapon: BOW\n",
      "AnimRate: 100\n",
      "SIAS: 0\n",
      "WSM: 10\n",
      "WIAS: 0\n",
      "ias\teias\tatk0\tatk1\tatk2\tatk3\tatk4\tatk5\tatk6\tatk7\tatk8\tatk9\tavg\taps\n",
      "0\t-10\t7\t4\t4\t4\t4\t4\t4\t4\t4\t12\t5.10\t4.90\n",
      "3\t-8\t7\t4\t4\t4\t4\t4\t4\t4\t4\t11\t5.00\t5.00\n",
      "11\t0\t6\t3\t3\t3\t3\t3\t3\t3\t3\t10\t4.00\t6.25\n",
      "26\t11\t6\t3\t3\t3\t3\t3\t3\t3\t3\t9\t3.90\t6.41\n",
      "42\t21\t5\t3\t3\t3\t3\t3\t3\t3\t3\t9\t3.80\t6.58\n",
      "46\t23\t5\t3\t3\t3\t3\t3\t3\t3\t3\t8\t3.70\t6.76\n",
      "80\t38\t5\t3\t3\t3\t3\t3\t3\t3\t3\t7\t3.60\t6.94\n",
      "Class: WolfDruid\n",
      "Animation: fury\n",
      "Weapon: STF\n",
      "AnimRate: 100\n",
      "SIAS: 68\n",
      "WSM: 10\n",
      "WIAS: 90\n",
      "ias\teias\tatk0\tatk1\tatk2\tatk3\tatk4\tavg\taps\n",
      "2\t110\t4\t4\t4\t4\t7\t4.60\t5.43\n",
      "Class: Paladin\n",
      "Animation: zeal\n",
      "Weapon: 2HS\n",
      "AnimRate: 100\n",
      "SIAS: 37\n",
      "WSM: 10\n",
      "WIAS: 0\n",
      "ias\teias\tatk0\tatk1\tatk2\tatk3\tatk4\tavg\taps\n",
      "0\t27\t7\t7\t7\t7\t14\t8.40\t2.98\n",
      "3\t29\t7\t7\t7\t7\t13\t8.20\t3.05\n",
      "8\t34\t6\t6\t6\t6\t13\t7.40\t3.38\n",
      "14\t39\t6\t6\t6\t6\t12\t7.20\t3.47\n",
      "29\t50\t6\t6\t6\t6\t11\t7.00\t3.57\n",
      "48\t61\t5\t5\t5\t5\t11\t6.20\t4.03\n",
      "54\t64\t5\t5\t5\t5\t10\t6.00\t4.17\n",
      "Class: Act2Merc\n",
      "Animation: jab\n",
      "Weapon: HTH\n",
      "AnimRate: 100\n",
      "SIAS: 0\n",
      "WSM: -10\n",
      "WIAS: 0\n",
      "ias\teias\tatk0\tatk1\taidelay\tavg\taps\n",
      "0\t10\t13\t0\t2\t7.50\t3.33\n",
      "8\t17\t12\t0\t2\t7.00\t3.57\n",
      "22\t28\t11\t0\t2\t6.50\t3.85\n",
      "42\t41\t10\t0\t2\t6.00\t4.17\n",
      "75\t56\t9\t0\t2\t5.50\t4.55\n",
      "142\t75\t8\t0\t2\t5.00\t5.00\n"
     ]
    }
   ],
   "source": [
    "import sys\n",
    "import pydiablo as d2\n",
    "\n",
    "# write a few selected ias breakpoint tables\n",
    "d2.char.write_bp_table(sys.stdout, d2.char.Amazon.strafe_duration, 'BOW', 100, 0,   10)\n",
    "d2.char.write_bp_table(sys.stdout, d2.char.WolfDruid.fury_duration, 'STF', 100,     68, 10, WIAS=90)\n",
    "d2.char.write_bp_table(sys.stdout, d2.char.Paladin.zeal_duration, '2HS', 100, 37, 10, WIAS=0)\n",
    "d2.char.write_bp_table(sys.stdout, d2.char.Act2Merc.jab_duration, 'HTH', 100, 0, -10)"
   ]
  },
  {
   "cell_type": "code",
   "execution_count": null,
   "metadata": {},
   "outputs": [],
   "source": []
  }
 ],
 "metadata": {
  "kernelspec": {
   "display_name": "Python 3",
   "language": "python",
   "name": "python3"
  },
  "language_info": {
   "codemirror_mode": {
    "name": "ipython",
    "version": 3
   },
   "file_extension": ".py",
   "mimetype": "text/x-python",
   "name": "python",
   "nbconvert_exporter": "python",
   "pygments_lexer": "ipython3",
   "version": "3.6.6"
  }
 },
 "nbformat": 4,
 "nbformat_minor": 2
}
